{
  "nbformat": 4,
  "nbformat_minor": 0,
  "metadata": {
    "colab": {
      "provenance": []
    },
    "kernelspec": {
      "name": "python3",
      "display_name": "Python 3"
    },
    "language_info": {
      "name": "python"
    }
  },
  "cells": [
    {
      "cell_type": "code",
      "source": [
        "morse_code_dict = {\n",
        "    'A': '.-', 'B': '-...', 'C': '-.-.', 'D': '-..', 'E': '.', 'F': '..-.', 'G': '--.', 'H': '....', 'I': '..',\n",
        "    'J': '.---', 'K': '-.-', 'L': '.-..', 'M': '--', 'N': '-.', 'O': '---', 'P': '.--.', 'Q': '--.-', 'R': '.-.',\n",
        "    'S': '...', 'T': '-', 'U': '..-', 'V': '...-', 'W': '.--', 'X': '-..-', 'Y': '-.--', 'Z': '--..',\n",
        "    '0': '-----', '1': '.----', '2': '..---', '3': '...--', '4': '....-', '5': '.....', '6': '-....',\n",
        "    '7': '--...', '8': '---..', '9': '----.', ' ': ' ',\n",
        "    '.': '.-.-.-', ',': '--..--', '?': '..--..', \"'\": '.----.', '!': '-.-.--', '/': '-..-.', '(': '-.--.', ')': '-.--.-',\n",
        "    '&': '.-...', ':': '---...', ';': '-.-.-.', '=': '-...-', '+': '.-.-.', '-': '-....-', '_': '..--.-', '\"': '.-..-.',\n",
        "    '$': '...-..-', '@': '.--.-.'\n",
        "}"
      ],
      "metadata": {
        "id": "GmLbMZHbdbDs"
      },
      "execution_count": 12,
      "outputs": []
    },
    {
      "cell_type": "code",
      "source": [
        "# Function to encode text into Morse code\n",
        "def encode_to_morse(text):\n",
        "    encoded_message = \"\"\n",
        "\n",
        "    for char in text.upper():\n",
        "        if char in morse_code_dict:\n",
        "            encoded_message += morse_code_dict[char] + ' '\n",
        "        else:\n",
        "            encoded_message += ' '  # Use space for unknown characters\n",
        "\n",
        "    return encoded_message\n",
        "\n",
        "# Example usage\n",
        "user_input = input(\"Enter a message to encode into Morse code: \")\n",
        "encoded_morse_message = encode_to_morse(user_input)\n",
        "print(\"Encoded Morse Code:\", encoded_morse_message)\n"
      ],
      "metadata": {
        "colab": {
          "base_uri": "https://localhost:8080/"
        },
        "id": "auHPkp6odJlZ",
        "outputId": "46cd5865-699a-47f9-e5a1-c9a7cc1f1f5a"
      },
      "execution_count": 13,
      "outputs": [
        {
          "output_type": "stream",
          "name": "stdout",
          "text": [
            "Enter a message to encode into Morse code: Kill you\n",
            "Encoded Morse Code: -.- .. .-.. .-..   -.-- --- ..- \n"
          ]
        }
      ]
    },
    {
      "cell_type": "code",
      "execution_count": 15,
      "metadata": {
        "colab": {
          "base_uri": "https://localhost:8080/"
        },
        "id": "Db7BRrz1PyI5",
        "outputId": "b3f89133-f7a1-4655-d9b2-d3b7776e3629"
      },
      "outputs": [
        {
          "output_type": "stream",
          "name": "stdout",
          "text": [
            "Enter a message to encode into Morse code: -.- .. .-.. .-..   -.-- --- ..- \n",
            "Decoded Morse Code: KILL  YOU \n"
          ]
        }
      ],
      "source": [
        "# Function to decode Morse code\n",
        "def decode_morse_code(morse_code):\n",
        "    morse_code_split = morse_code.split(' ')\n",
        "    decoded_text = \"\"\n",
        "\n",
        "    for symbol in morse_code_split:\n",
        "        if symbol == \"\":\n",
        "            decoded_text += \" \"  # Add a space for each space in Morse code\n",
        "        else:\n",
        "            for letter, code in morse_code_dict.items():\n",
        "                if code == symbol:\n",
        "                    decoded_text += letter\n",
        "                    break\n",
        "    return decoded_text\n",
        "\n",
        "# Example usage\n",
        "user_input = input(\"Enter a message to encode into Morse code: \")\n",
        "decoded_text = decode_morse_code(user_input)\n",
        "print(\"Decoded Morse Code:\", decoded_text)\n"
      ]
    }
  ]
}